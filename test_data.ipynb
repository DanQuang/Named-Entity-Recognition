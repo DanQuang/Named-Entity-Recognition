{
 "cells": [
  {
   "cell_type": "code",
   "execution_count": 2,
   "metadata": {},
   "outputs": [],
   "source": [
    "import numpy as np\n",
    "import pandas as pd"
   ]
  },
  {
   "cell_type": "code",
   "execution_count": 25,
   "metadata": {},
   "outputs": [
    {
     "name": "stderr",
     "output_type": "stream",
     "text": [
      "C:\\Users\\tquan\\AppData\\Local\\Temp\\ipykernel_10856\\213452595.py:2: FutureWarning: DataFrame.fillna with 'method' is deprecated and will raise in a future version. Use obj.ffill() or obj.bfill() instead.\n",
      "  data = data.fillna(method='ffill')\n"
     ]
    },
    {
     "data": {
      "text/html": [
       "<div>\n",
       "<style scoped>\n",
       "    .dataframe tbody tr th:only-of-type {\n",
       "        vertical-align: middle;\n",
       "    }\n",
       "\n",
       "    .dataframe tbody tr th {\n",
       "        vertical-align: top;\n",
       "    }\n",
       "\n",
       "    .dataframe thead th {\n",
       "        text-align: right;\n",
       "    }\n",
       "</style>\n",
       "<table border=\"1\" class=\"dataframe\">\n",
       "  <thead>\n",
       "    <tr style=\"text-align: right;\">\n",
       "      <th></th>\n",
       "      <th>Sentence #</th>\n",
       "      <th>Word</th>\n",
       "      <th>POS</th>\n",
       "      <th>Tag</th>\n",
       "    </tr>\n",
       "  </thead>\n",
       "  <tbody>\n",
       "    <tr>\n",
       "      <th>0</th>\n",
       "      <td>Sentence: 1</td>\n",
       "      <td>Thousands</td>\n",
       "      <td>NNS</td>\n",
       "      <td>O</td>\n",
       "    </tr>\n",
       "    <tr>\n",
       "      <th>1</th>\n",
       "      <td>Sentence: 1</td>\n",
       "      <td>of</td>\n",
       "      <td>IN</td>\n",
       "      <td>O</td>\n",
       "    </tr>\n",
       "    <tr>\n",
       "      <th>2</th>\n",
       "      <td>Sentence: 1</td>\n",
       "      <td>demonstrators</td>\n",
       "      <td>NNS</td>\n",
       "      <td>O</td>\n",
       "    </tr>\n",
       "    <tr>\n",
       "      <th>3</th>\n",
       "      <td>Sentence: 1</td>\n",
       "      <td>have</td>\n",
       "      <td>VBP</td>\n",
       "      <td>O</td>\n",
       "    </tr>\n",
       "    <tr>\n",
       "      <th>4</th>\n",
       "      <td>Sentence: 1</td>\n",
       "      <td>marched</td>\n",
       "      <td>VBN</td>\n",
       "      <td>O</td>\n",
       "    </tr>\n",
       "    <tr>\n",
       "      <th>...</th>\n",
       "      <td>...</td>\n",
       "      <td>...</td>\n",
       "      <td>...</td>\n",
       "      <td>...</td>\n",
       "    </tr>\n",
       "    <tr>\n",
       "      <th>1048570</th>\n",
       "      <td>Sentence: 47959</td>\n",
       "      <td>they</td>\n",
       "      <td>PRP</td>\n",
       "      <td>O</td>\n",
       "    </tr>\n",
       "    <tr>\n",
       "      <th>1048571</th>\n",
       "      <td>Sentence: 47959</td>\n",
       "      <td>responded</td>\n",
       "      <td>VBD</td>\n",
       "      <td>O</td>\n",
       "    </tr>\n",
       "    <tr>\n",
       "      <th>1048572</th>\n",
       "      <td>Sentence: 47959</td>\n",
       "      <td>to</td>\n",
       "      <td>TO</td>\n",
       "      <td>O</td>\n",
       "    </tr>\n",
       "    <tr>\n",
       "      <th>1048573</th>\n",
       "      <td>Sentence: 47959</td>\n",
       "      <td>the</td>\n",
       "      <td>DT</td>\n",
       "      <td>O</td>\n",
       "    </tr>\n",
       "    <tr>\n",
       "      <th>1048574</th>\n",
       "      <td>Sentence: 47959</td>\n",
       "      <td>attack</td>\n",
       "      <td>NN</td>\n",
       "      <td>O</td>\n",
       "    </tr>\n",
       "  </tbody>\n",
       "</table>\n",
       "<p>1048575 rows × 4 columns</p>\n",
       "</div>"
      ],
      "text/plain": [
       "              Sentence #           Word  POS Tag\n",
       "0            Sentence: 1      Thousands  NNS   O\n",
       "1            Sentence: 1             of   IN   O\n",
       "2            Sentence: 1  demonstrators  NNS   O\n",
       "3            Sentence: 1           have  VBP   O\n",
       "4            Sentence: 1        marched  VBN   O\n",
       "...                  ...            ...  ...  ..\n",
       "1048570  Sentence: 47959           they  PRP   O\n",
       "1048571  Sentence: 47959      responded  VBD   O\n",
       "1048572  Sentence: 47959             to   TO   O\n",
       "1048573  Sentence: 47959            the   DT   O\n",
       "1048574  Sentence: 47959         attack   NN   O\n",
       "\n",
       "[1048575 rows x 4 columns]"
      ]
     },
     "execution_count": 25,
     "metadata": {},
     "output_type": "execute_result"
    }
   ],
   "source": [
    "data = pd.read_csv(\"c:/Users/tquan/Downloads/ner_dataset.csv\", encoding= 'latin1')\n",
    "data = data.fillna(method='ffill')\n",
    "data"
   ]
  },
  {
   "cell_type": "code",
   "execution_count": 3,
   "metadata": {},
   "outputs": [],
   "source": [
    "import pandas as pd\n",
    "from typing import List\n",
    "\n",
    "class Vocab:\n",
    "    def __init__(self, data_path):\n",
    "\n",
    "        self.word_to_idx = {}\n",
    "        self.idx_to_word = {}\n",
    "\n",
    "        self.tag_to_idx = {}\n",
    "        self.idx_to_tag = {}\n",
    "\n",
    "        self.dataset_path = data_path\n",
    "\n",
    "        self.build_vocab()\n",
    "\n",
    "    def build_words_and_tags(self):\n",
    "        dataset = pd.read_csv(self.dataset_path, encoding= 'latin1')\n",
    "        dataset = dataset.fillna(method= 'ffill')\n",
    "        \n",
    "        list_words = list(set(dataset[\"Word\"].values))\n",
    "        list_words.append('<pad>')\n",
    "\n",
    "        # lis tags\n",
    "        list_tags = list(set(dataset[\"Tag\"].values))\n",
    "\n",
    "        return list_words, list_tags\n",
    "    \n",
    "    def build_vocab(self):\n",
    "        list_words, list_tags = self.build_words_and_tags()\n",
    "        \n",
    "        self.word_to_idx = {word: idx + 1 for idx, word in enumerate(list_words)}\n",
    "        self.idx_to_word = {idx: word for word, idx in self.word_to_idx.items()}\n",
    "\n",
    "        self.tag_to_idx = {tag: idx + 1 for idx, tag in enumerate(list_tags)}\n",
    "        self.idx_to_tag = {idx: tag for tag, idx in self.tag_to_idx.items()}\n",
    "\n",
    "    def convert_tokens_to_ids(self, tokens: List):\n",
    "        return [self.word_to_idx.get(token) for token in tokens]\n",
    "    \n",
    "    def convert_ids_to_tokens(self, ids: List):\n",
    "        return [self.idx_to_word[idx] for idx in ids]\n",
    "    \n",
    "    def convert_tags_to_ids(self, tags: List):\n",
    "        return [self.tag_to_idx.get(tag) for tag in tags]\n",
    "    \n",
    "    def convert_ids_to_tags(self, ids: List):\n",
    "        return [self.idx_to_tag[idx] for idx in ids]\n",
    "    \n",
    "    def vocab_size(self):\n",
    "        return len(self.word_to_idx) + 1\n",
    "    \n",
    "    def num_tags(self):\n",
    "        return len(self.tag_to_idx)\n",
    "    \n",
    "    def pad_token_idx(self):\n",
    "        return 0"
   ]
  },
  {
   "cell_type": "code",
   "execution_count": 26,
   "metadata": {},
   "outputs": [],
   "source": [
    "from torch.utils.data import Dataset, DataLoader\n",
    "\n",
    "import pandas as pd\n",
    "from torch.utils.data import random_split\n",
    "\n",
    "class MyDataset(Dataset):\n",
    "    def __init__(self, dataset_path: str, vocab: Vocab):\n",
    "        super(MyDataset, self).__init__()\n",
    "\n",
    "        self.sentence = []\n",
    "        self.tag = []\n",
    "        self.vocab = vocab\n",
    "\n",
    "        data = pd.read_csv(dataset_path, encoding= 'latin1')\n",
    "        data = data.fillna(method= 'ffill')\n",
    "\n",
    "        agg_func = lambda s: [(w, p, t) for w, p, t in zip(s[\"Word\"].values.tolist(),\n",
    "                                                           s[\"POS\"].values.tolist(),\n",
    "                                                           s[\"Tag\"].values.tolist())]\n",
    "\n",
    "        self.grouped = data.groupby(\"Sentence #\").apply(agg_func)\n",
    "        self.obj = [s for s in self.grouped]\n",
    "\n",
    "        self.sentences = [[w[0] for w in s] for s in self.obj]\n",
    "        self.tags = [[w[2] for w in s] for s in self.obj]\n",
    "\n",
    "        self.sentence = [self.vocab.convert_tokens_to_ids(s) for s in self.sentences]\n",
    "        self.tag = [self.vocab.convert_tags_to_ids(t) for t in self.tags]\n",
    "\n",
    "    def __len__(self):\n",
    "        return len(self.sentence)\n",
    "    \n",
    "    def __getitem__(self, index):\n",
    "        return {\n",
    "            \"sentence\": self.sentence[index],\n",
    "            \"tag\": self.tag[index]\n",
    "        }"
   ]
  },
  {
   "cell_type": "code",
   "execution_count": 27,
   "metadata": {},
   "outputs": [
    {
     "name": "stderr",
     "output_type": "stream",
     "text": [
      "C:\\Users\\tquan\\AppData\\Local\\Temp\\ipykernel_10856\\2718398789.py:19: FutureWarning: DataFrame.fillna with 'method' is deprecated and will raise in a future version. Use obj.ffill() or obj.bfill() instead.\n",
      "  dataset = dataset.fillna(method= 'ffill')\n"
     ]
    }
   ],
   "source": [
    "vocab = Vocab(\"c:/Users/tquan/Downloads/ner_dataset.csv\")"
   ]
  },
  {
   "cell_type": "code",
   "execution_count": 28,
   "metadata": {},
   "outputs": [
    {
     "name": "stderr",
     "output_type": "stream",
     "text": [
      "C:\\Users\\tquan\\AppData\\Local\\Temp\\ipykernel_10856\\131286098.py:15: FutureWarning: DataFrame.fillna with 'method' is deprecated and will raise in a future version. Use obj.ffill() or obj.bfill() instead.\n",
      "  data = data.fillna(method= 'ffill')\n"
     ]
    },
    {
     "data": {
      "text/plain": [
       "<__main__.MyDataset at 0x1e978c0c8b0>"
      ]
     },
     "execution_count": 28,
     "metadata": {},
     "output_type": "execute_result"
    }
   ],
   "source": [
    "data = MyDataset(\"c:/Users/tquan/Downloads/ner_dataset.csv\", vocab= vocab)\n",
    "data"
   ]
  },
  {
   "cell_type": "code",
   "execution_count": 29,
   "metadata": {},
   "outputs": [
    {
     "data": {
      "text/plain": [
       "Sentence #\n",
       "Sentence: 1        [(Thousands, NNS, O), (of, IN, O), (demonstrat...\n",
       "Sentence: 10       [(Iranian, JJ, B-gpe), (officials, NNS, O), (s...\n",
       "Sentence: 100      [(Helicopter, NN, O), (gunships, NNS, O), (Sat...\n",
       "Sentence: 1000     [(They, PRP, O), (left, VBD, O), (after, IN, O...\n",
       "Sentence: 10000    [(U.N., NNP, B-geo), (relief, NN, O), (coordin...\n",
       "                                         ...                        \n",
       "Sentence: 9995     [(Opposition, NNP, O), (leader, NN, O), (Mir, ...\n",
       "Sentence: 9996     [(On, IN, O), (Thursday, NNP, B-tim), (,, ,, O...\n",
       "Sentence: 9997     [(Following, VBG, O), (Iran, NNP, B-geo), ('s,...\n",
       "Sentence: 9998     [(Since, IN, O), (then, RB, O), (,, ,, O), (au...\n",
       "Sentence: 9999     [(The, DT, O), (United, NNP, B-org), (Nations,...\n",
       "Length: 47959, dtype: object"
      ]
     },
     "execution_count": 29,
     "metadata": {},
     "output_type": "execute_result"
    }
   ],
   "source": [
    "data.grouped"
   ]
  }
 ],
 "metadata": {
  "kernelspec": {
   "display_name": "Python 3",
   "language": "python",
   "name": "python3"
  },
  "language_info": {
   "codemirror_mode": {
    "name": "ipython",
    "version": 3
   },
   "file_extension": ".py",
   "mimetype": "text/x-python",
   "name": "python",
   "nbconvert_exporter": "python",
   "pygments_lexer": "ipython3",
   "version": "3.10.9"
  }
 },
 "nbformat": 4,
 "nbformat_minor": 2
}
